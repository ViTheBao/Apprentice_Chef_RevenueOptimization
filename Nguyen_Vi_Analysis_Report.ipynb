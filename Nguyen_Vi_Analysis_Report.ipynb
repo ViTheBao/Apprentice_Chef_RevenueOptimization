{
 "cells": [
  {
   "cell_type": "markdown",
   "metadata": {},
   "source": [
    "# Management Analysis Report\n",
    "\n",
    "DAT5303 - Machine Learning\n",
    "\n",
    "By: Vi Nguyen"
   ]
  },
  {
   "cell_type": "markdown",
   "metadata": {},
   "source": [
    "The analysis of Apprentice Chef cooking service was done to predict revenue, as well as the key factors that lead to the successes of \"Halfway There\", the cross selling promotion. "
   ]
  },
  {
   "cell_type": "markdown",
   "metadata": {},
   "source": [
    "# Revenue Insights\n",
    "\n",
    "We can see that customers who are more engaged with the Apprentice Chef services, greatly impacted revenue generation based on chart 5.1.1 below.\n",
    "\n",
    "Key actionable insights from revenue based on highly correlated variables are for Apprentice Chef to recommend new dishes suited to customers previous orders and based on their median meal ratings in order to diversify their offerings. This can be done through the master classes the program as to offer, in order to see how likely a consumer diversifies, as well as keeping the consumer engaged with Apprentice Chef.  \n",
    "\n",
    "OLS Model R2 = 0.773\t"
   ]
  },
  {
   "cell_type": "markdown",
   "metadata": {},
   "source": [
    "# Halfway There Insights\n",
    "\n",
    "The success of the promotion was highly dependent on which email domain was used. Customers who used junk or personal emails were more likely to subscribe to the promotion. As well as the number of names a customer used based on chart 5.2.1 of feature importance.\n",
    "\n",
    "Apprentice Chef should focus on gathering information and understanding the consumer through psychographic and demographic needs. Since the important insights about a consumers’ reason for purchase is based on email domains and number of names and not many other factors.\n",
    "\n",
    "Pruned Tree Model AUC: 0.732\n"
   ]
  },
  {
   "cell_type": "markdown",
   "metadata": {},
   "source": [
    "# Concluding Actions\n",
    "\n",
    "Revenue be increased by funneling more customers through the key factors that promotes revenue generation, as well as improving other highly correlated variables to revenue, such as improving the master class program.\n",
    "Much of Apprentice Chef's promotional success depended not on what we understood about the consumer, but more so based on the kind of information they inputted. This would prevent the company from further understanding their customers and impede on promotional success. "
   ]
  },
  {
   "cell_type": "markdown",
   "metadata": {},
   "source": [
    "# Models"
   ]
  },
  {
   "cell_type": "code",
   "execution_count": 37,
   "metadata": {
    "code_folding": [
     0
    ]
   },
   "outputs": [],
   "source": [
    "# importing all libraries\n",
    "import pandas as pd                                   # data science essentials\n",
    "import matplotlib.pyplot as plt                       # data visualization\n",
    "import seaborn as sns                                 # enhanced data visualization\n",
    "import numpy as np                                    # numpy for math\n",
    "from sklearn.model_selection import train_test_split  # train-test split\n",
    "from sklearn.linear_model import LinearRegression   # logistic regression\n",
    "import statsmodels.formula.api as smf                 # logistic regression\n",
    "from sklearn.metrics import confusion_matrix          # confusion matrix\n",
    "from sklearn.metrics import roc_auc_score             # auc score\n",
    "\n",
    "# CART model packages\n",
    "from sklearn.tree import DecisionTreeClassifier       # classification trees\n",
    "from sklearn.tree import export_graphviz              # exports graphics\n",
    "from six import StringIO                              # saves objects in memory\n",
    "from IPython.display import Image                     # displays on frontend\n",
    "import pydotplus                                      # interprets dot objects\n",
    "\n",
    "#Packages for Classification Tree Modelling\n",
    "from sklearn.model_selection import RandomizedSearchCV  # hyperparameter tuning\n",
    "from sklearn.metrics import make_scorer                 # customizable scorer\n",
    "\n",
    "# setting pd print options\n",
    "pd.set_option('display.max_rows', 500)\n",
    "pd.set_option('display.max_columns', 500)\n",
    "pd.set_option('display.width', 1000)\n",
    "\n",
    "\n",
    "# specify path and file name\n",
    "file  = 'Chef_Ft_Regression.xlsx'\n",
    "file2 = 'Chef_Ft_Classification.xlsx'\n",
    "\n",
    "\n",
    "# reading the file\n",
    "\n",
    "#regression file\n",
    "chefr = pd.read_excel(io = file)\n",
    "#classification file\n",
    "chefc = pd.read_excel(io = file2)"
   ]
  },
  {
   "cell_type": "code",
   "execution_count": 38,
   "metadata": {
    "code_folding": [
     0
    ]
   },
   "outputs": [],
   "source": [
    "## setting up data for OLS Regression ##\n",
    "\n",
    "\n",
    "# preparing explanatory variable data\n",
    "chefr_data  = chefr.drop(['REVENUE','log_REVENUE',\n",
    "                          'NAME', 'EMAIL','FIRST_NAME',\n",
    "                          'CLEAN_MAIL','FAMILY_NAME'],\n",
    "                           axis = 1)\n",
    "\n",
    "\n",
    "# preparing response variable data\n",
    "# depending on what one we want to use\n",
    "chefr_target = chefr.loc[ : , 'REVENUE']\n",
    "log_chefr_target = chefr.loc[ : , 'log_REVENUE'] \n",
    "\n",
    "\n",
    "# preparing training and testing sets (all letters are lowercase)\n",
    "# using the log revenue as our target instead\n",
    "\n",
    "x_train, x_test, y_train, y_test = train_test_split(\n",
    "            chefr_data,\n",
    "            log_chefr_target,\n",
    "            test_size    = 0.25,\n",
    "            random_state = 219)"
   ]
  },
  {
   "cell_type": "markdown",
   "metadata": {},
   "source": [
    "## OLS Regression Model"
   ]
  },
  {
   "cell_type": "code",
   "execution_count": 39,
   "metadata": {
    "code_folding": [
     0
    ],
    "deletable": false,
    "editable": false
   },
   "outputs": [],
   "source": [
    "# applying OLS model in scikit-learn\n",
    "\n",
    "# preparing response variable\n",
    "log_chefr_target = chefr['log_REVENUE']\n",
    "\n",
    "###############################################\n",
    "## setting up full data for train-test split ##\n",
    "###############################################\n",
    "\n",
    "# FULL X-dataset (normal Y)\n",
    "x_train_FULL, x_test_FULL, y_train_FULL, y_test_FULL = train_test_split(\n",
    "            chefr_data,     # x-variables\n",
    "            log_chefr_target,   # y-variable\n",
    "            test_size = 0.25,\n",
    "            random_state = 219)"
   ]
  },
  {
   "cell_type": "code",
   "execution_count": 12,
   "metadata": {
    "code_folding": [
     0
    ]
   },
   "outputs": [
    {
     "name": "stdout",
     "output_type": "stream",
     "text": [
      "OLS Training Score : 0.7825\n",
      "OLS Testing Score  : 0.7731\n",
      "OLS Train-Test Gap : 0.0094\n"
     ]
    }
   ],
   "source": [
    "###############################################\n",
    "##        OLS MODEL WITH FULL DATA           ##\n",
    "###############################################\n",
    "\n",
    "# INSTANTIATING a model object\n",
    "lr = LinearRegression()\n",
    "\n",
    "# Fit to training data\n",
    "lr_fit = lr.fit(x_train_FULL, y_train_FULL)\n",
    "\n",
    "#predicting new data\n",
    "lr_pred = lr_fit.predict(x_test_FULL)\n",
    "\n",
    "\n",
    "#Results print out\n",
    "print('OLS Training Score :', lr.score(x_train_FULL, y_train_FULL).round(4))  # using R-square\n",
    "print('OLS Testing Score  :',  lr.score(x_test_FULL, y_test_FULL).round(4)) # using R-square\n",
    "\n",
    "#creating values\n",
    "lr_train_score = lr.score(x_train_FULL, y_train_FULL).round(4)\n",
    "lr_test_score = lr.score(x_test_FULL, y_test_FULL).round(4)\n",
    "\n",
    "\n",
    "# displaying and saving the gap between training and testing\n",
    "print('OLS Train-Test Gap :', abs(lr_train_score - lr_test_score).round(4))\n",
    "lr_test_gap = abs(lr_train_score - lr_test_score).round(4)"
   ]
  },
  {
   "cell_type": "markdown",
   "metadata": {},
   "source": [
    "### Feature Correlations with Revenue Prediction"
   ]
  },
  {
   "cell_type": "code",
   "execution_count": 64,
   "metadata": {
    "code_folding": [
     0
    ]
   },
   "outputs": [
    {
     "data": {
      "text/plain": [
       "Text(0.5, 1.0, 'Most Correlated Features Matrix')"
      ]
     },
     "execution_count": 64,
     "metadata": {},
     "output_type": "execute_result"
    },
    {
     "data": {
      "image/png": "[encoded data removed]",
      "text/plain": [
       "<Figure size 720x720 with 2 Axes>"
      ]
     },
     "metadata": {
      "needs_background": "light"
     },
     "output_type": "display_data"
    }
   ],
   "source": [
    "#creating correlation matrix\n",
    "chefr_corr  = chefr.corr().round(2)\n",
    "\n",
    "#subset correlation matrix\n",
    "chefr_corr2 = chefr_corr.loc[ ['REVENUE','TOTAL_MEALS_ORDERED',\n",
    "                              'AVG_PREP_VID_TIME','TOTAL_PHOTOS_VIEWED','MASTER_CLASSES_ATTENDED',\n",
    "                              'MEDIAN_MEAL_RATING','AVG_MEALS_ORD'],\n",
    "                             ['REVENUE','TOTAL_MEALS_ORDERED',\n",
    "                              'AVG_PREP_VID_TIME','TOTAL_PHOTOS_VIEWED','MASTER_CLASSES_ATTENDED',\n",
    "                              'MEDIAN_MEAL_RATING','AVG_MEALS_ORD'] ]\n",
    "\n",
    "#plotting matrix\n",
    "fig, ax = plt.subplots(figsize = (10, 10))\n",
    "\n",
    "#correlation matrix from subset\n",
    "mask    = np.zeros_like(chefr_corr2)\n",
    "\n",
    "mask[np.triu_indices_from(mask)] = True\n",
    "sns.heatmap(chefr_corr2, \n",
    "            cmap        = 'Spectral_r', \n",
    "            mask        = mask, \n",
    "            square      = True,\n",
    "            annot       = True, \n",
    "            vmin        = -0.6, \n",
    "            vmax        = 0.6, \n",
    "            linewidths  = 0.5)\n",
    "\n",
    "plt.title('Most Correlated Features Matrix')"
   ]
  },
  {
   "cell_type": "markdown",
   "metadata": {},
   "source": [
    "## Pruned Tree Classification Model "
   ]
  },
  {
   "cell_type": "code",
   "execution_count": 41,
   "metadata": {
    "code_folding": [
     0
    ]
   },
   "outputs": [],
   "source": [
    "#dropping categorical variables/variables with strings\n",
    "\n",
    "# declaring x-variables\n",
    "chefc_data = chefc.drop(['CROSS_SELL_SUCCESS', 'NAME', 'EMAIL',\n",
    "                       'FIRST_NAME', 'FAMILY_NAME', 'CLEAN_MAIL'], axis = 1)"
   ]
  },
  {
   "cell_type": "code",
   "execution_count": 42,
   "metadata": {
    "code_folding": [
     0
    ]
   },
   "outputs": [],
   "source": [
    "# creating a variable dictionary to store candidate models\n",
    "\n",
    "variable_dict = {\n",
    "\n",
    " # significant variables only (set 2)\n",
    " 'logit_sig_2'  : ['MOBILE_NUMBER', 'CANCELLATIONS_BEFORE_NOON', \n",
    "                  'TASTES_AND_PREFERENCES', 'PC_LOGINS', 'EARLY_DELIVERIES',\n",
    "                  'REFRIGERATED_LOCKER', 'junk', 'work', \n",
    "                  'NUM_OF_NAMES'],\n",
    "}"
   ]
  },
  {
   "cell_type": "code",
   "execution_count": 43,
   "metadata": {
    "code_folding": [
     0
    ]
   },
   "outputs": [],
   "source": [
    "#Initiating data in the pruned tree model\n",
    "chefc_data   =  chefc.loc[ : , variable_dict['logit_sig_2']]\n",
    "chefc_target =  chefc.loc[ : , 'CROSS_SELL_SUCCESS']\n",
    "\n",
    "# train/test split\n",
    "x_train, x_test, y_train, y_test = train_test_split(\n",
    "                    chefc_data,\n",
    "                    chefc_target,\n",
    "                    random_state = 219,\n",
    "                    test_size    = 0.25,\n",
    "                    stratify     = chefc_target)"
   ]
  },
  {
   "cell_type": "code",
   "execution_count": 44,
   "metadata": {
    "code_folding": [
     0
    ]
   },
   "outputs": [
    {
     "name": "stdout",
     "output_type": "stream",
     "text": [
      "Training ACCURACY: 0.7402\n",
      "Testing  ACCURACY: 0.7762\n",
      "AUC Score        : 0.732\n"
     ]
    }
   ],
   "source": [
    "# Running Pruned Tree Model\n",
    "pruned_tree = DecisionTreeClassifier(max_depth        = 3,\n",
    "                                     min_samples_leaf = 25,\n",
    "                                     random_state     = 219)\n",
    "\n",
    "# FITTING the training data\n",
    "pruned_tree_fit  = pruned_tree.fit(x_train, y_train)\n",
    "\n",
    "\n",
    "# PREDICTING on new data\n",
    "pruned_tree_pred = pruned_tree_fit.predict(x_test)\n",
    "\n",
    "\n",
    "# SCORING the model\n",
    "print('Training ACCURACY:', pruned_tree_fit.score(x_train, y_train).round(4))\n",
    "print('Testing  ACCURACY:', pruned_tree_fit.score(x_test, y_test).round(4))\n",
    "print('AUC Score        :', roc_auc_score(y_true  = y_test,\n",
    "                                          y_score = pruned_tree_pred).round(4))\n",
    "\n",
    "\n",
    "# saving scoring data for future use\n",
    "pruned_tree_train_score = pruned_tree_fit.score(x_train, y_train).round(4) # accuracy\n",
    "pruned_tree_test_score  = pruned_tree_fit.score(x_test, y_test).round(4)   # accuracy\n",
    "\n",
    "\n",
    "# saving auc score\n",
    "pruned_tree_auc_score   = roc_auc_score(y_true  = y_test,\n",
    "                                        y_score = pruned_tree_pred).round(4) # auc"
   ]
  },
  {
   "cell_type": "code",
   "execution_count": 45,
   "metadata": {
    "code_folding": [
     0
    ]
   },
   "outputs": [],
   "source": [
    "#creating variables from confusion matrix\n",
    "pruned_tree_tn, \\\n",
    "pruned_tree_fp, \\\n",
    "pruned_tree_fn, \\\n",
    "pruned_tree_tp = confusion_matrix(y_true = y_test, y_pred = pruned_tree_pred).ravel()"
   ]
  },
  {
   "cell_type": "code",
   "execution_count": 46,
   "metadata": {
    "code_folding": [
     0
    ],
    "deletable": false,
    "editable": false
   },
   "outputs": [],
   "source": [
    "########################################\n",
    "# plot_feature_importances\n",
    "########################################\n",
    "def plot_feature_importances(model, train, export = False):\n",
    "    \"\"\"\n",
    "    Plots the importance of features from a CART model.\n",
    "    \n",
    "    PARAMETERS\n",
    "    ----------\n",
    "    model  : CART model\n",
    "    train  : explanatory variable training data\n",
    "    export : whether or not to export as a .png image, default False\n",
    "    \"\"\"\n",
    "    \n",
    "    # declaring the number\n",
    "    n_features = x_train.shape[1]\n",
    "    \n",
    "    # setting plot window\n",
    "    fig, ax = plt.subplots(figsize=(12,9))\n",
    "    \n",
    "    plt.barh(range(n_features), model.feature_importances_, align='center')\n",
    "    plt.yticks(pd.np.arange(n_features), train.columns)\n",
    "    plt.xlabel(\"Feature importance\")\n",
    "    plt.ylabel(\"Feature\")\n",
    "    \n",
    "    if export == True:\n",
    "        plt.savefig('Tree_Leaf_50_Feature_Importance.png')"
   ]
  },
  {
   "cell_type": "markdown",
   "metadata": {},
   "source": [
    "### Pruned Tree Plot Features"
   ]
  },
  {
   "cell_type": "code",
   "execution_count": 47,
   "metadata": {},
   "outputs": [
    {
     "name": "stderr",
     "output_type": "stream",
     "text": [
      "<ipython-input-46-8914a6291de9>:22: FutureWarning: The pandas.np module is deprecated and will be removed from pandas in a future version. Import numpy directly instead\n",
      "  plt.yticks(pd.np.arange(n_features), train.columns)\n"
     ]
    },
    {
     "data": {
      "image/png": "[encoded data removed]",
      "text/plain": [
       "<Figure size 864x648 with 1 Axes>"
      ]
     },
     "metadata": {
      "needs_background": "light"
     },
     "output_type": "display_data"
    }
   ],
   "source": [
    "# plotting feature importance\n",
    "plot_feature_importances(pruned_tree_fit,\n",
    "                         train  = x_train,\n",
    "                         export = False)"
   ]
  },
  {
   "cell_type": "code",
   "execution_count": 65,
   "metadata": {
    "code_folding": [
     0
    ]
   },
   "outputs": [
    {
     "name": "stdout",
     "output_type": "stream",
     "text": [
      "\n",
      "Model           R-Squared     AUC Score      TN, FP, FN, TP\n",
      "-----            --------     ---------      --------------\n",
      "OLS Full Data    0.7825          NA                NA\n",
      "Pruned Tree        NA          0.732        (95, 61, 48, 283)\n",
      "\n",
      "\n"
     ]
    }
   ],
   "source": [
    "# MODEL RESULTS\n",
    "print(f\"\"\"\n",
    "Model           R-Squared     AUC Score      TN, FP, FN, TP\n",
    "-----            --------     ---------      --------------\n",
    "OLS Full Data    {lr_train_score}          NA                NA\n",
    "Pruned Tree        NA          {pruned_tree_auc_score}        {pruned_tree_tn, pruned_tree_fp, pruned_tree_fn, pruned_tree_tp}\n",
    "\n",
    "\"\"\")"
   ]
  }
 ],
 "metadata": {
  "kernelspec": {
   "display_name": "Python 3",
   "language": "python",
   "name": "python3"
  },
  "language_info": {
   "codemirror_mode": {
    "name": "ipython",
    "version": 3
   },
   "file_extension": ".py",
   "mimetype": "text/x-python",
   "name": "python",
   "nbconvert_exporter": "python",
   "pygments_lexer": "ipython3",
   "version": "3.8.5"
  },
  "toc": {
   "base_numbering": 1,
   "nav_menu": {},
   "number_sections": true,
   "sideBar": true,
   "skip_h1_title": false,
   "title_cell": "Table of Contents",
   "title_sidebar": "Contents",
   "toc_cell": false,
   "toc_position": {},
   "toc_section_display": true,
   "toc_window_display": false
  },
  "varInspector": {
   "cols": {
    "lenName": 16,
    "lenType": 16,
    "lenVar": 40
   },
   "kernels_config": {
    "python": {
     "delete_cmd_postfix": "",
     "delete_cmd_prefix": "del ",
     "library": "var_list.py",
     "varRefreshCmd": "print(var_dic_list())"
    },
    "r": {
     "delete_cmd_postfix": ") ",
     "delete_cmd_prefix": "rm(",
     "library": "var_list.r",
     "varRefreshCmd": "cat(var_dic_list()) "
    }
   },
   "types_to_exclude": [
    "module",
    "function",
    "builtin_function_or_method",
    "instance",
    "_Feature"
   ],
   "window_display": false
  }
 },
 "nbformat": 4,
 "nbformat_minor": 4
}
