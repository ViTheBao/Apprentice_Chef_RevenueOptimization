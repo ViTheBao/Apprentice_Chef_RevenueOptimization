{
 "cells": [
  {
   "cell_type": "markdown",
   "metadata": {},
   "source": [
    "# Import Libraries & Data\n",
    "\n",
    "Apprentice Chef Analysis - Classification Modelling\n",
    "\n",
    "Vi Nguyen"
   ]
  },
  {
   "cell_type": "code",
   "execution_count": 4,
   "metadata": {
    "code_folding": [
     0
    ]
   },
   "outputs": [],
   "source": [
    "# importing all libraries\n",
    "import pandas as pd                                   # data science essentials\n",
    "import matplotlib.pyplot as plt                       # data visualization\n",
    "import seaborn as sns                                 # enhanced data visualization\n",
    "import numpy as np                                    # numpy for math\n",
    "from sklearn.model_selection import train_test_split  # train-test split\n",
    "from sklearn.linear_model import LogisticRegression   # logistic regression\n",
    "import statsmodels.formula.api as smf                 # logistic regression\n",
    "from sklearn.metrics import confusion_matrix          # confusion matrix\n",
    "from sklearn.metrics import roc_auc_score             # auc score\n",
    "from sklearn.neighbors import KNeighborsClassifier    # KNN for classification\n",
    "from sklearn.neighbors import KNeighborsRegressor     # KNN for regression\n",
    "from sklearn.preprocessing import StandardScaler      # standard scaler\n",
    "\n",
    "# CART model packages\n",
    "from sklearn.tree import DecisionTreeClassifier       # classification trees\n",
    "from sklearn.tree import export_graphviz              # exports graphics\n",
    "from six import StringIO                              # saves objects in memory\n",
    "from IPython.display import Image                     # displays on frontend\n",
    "import pydotplus                                      # interprets dot objects\n",
    "\n",
    "#Packages for Classification Tree Modelling\n",
    "from sklearn.model_selection import RandomizedSearchCV  # hyperparameter tuning\n",
    "from sklearn.metrics import make_scorer                 # customizable scorer\n",
    "from sklearn.ensemble import RandomForestClassifier     # random forest\n",
    "from sklearn.ensemble import GradientBoostingClassifier # gbm\n",
    "\n",
    "# setting pd print options\n",
    "pd.set_option('display.max_rows', 500)\n",
    "pd.set_option('display.max_columns', 500)\n",
    "pd.set_option('display.width', 1000)\n",
    "\n",
    "\n",
    "# specify path and file name\n",
    "file = 'Apprentice_Chef_Dataset.xlsx'\n",
    "\n",
    "\n",
    "# reading the file\n",
    "chef = pd.read_excel(io=file)\n",
    "\n",
    "# #running the file\n",
    "# chef.head(n=5)"
   ]
  },
  {
   "cell_type": "markdown",
   "metadata": {},
   "source": [
    "# User Defined Functions"
   ]
  },
  {
   "cell_type": "code",
   "execution_count": 5,
   "metadata": {
    "code_folding": [
     0
    ],
    "deletable": false,
    "editable": false
   },
   "outputs": [],
   "source": [
    "# text_split_feature UDF\n",
    "#########################\n",
    "def text_split_feature(col, df, sep=' ', new_col_name = 'NUM_OF_NAMES'):\n",
    "    \"\"\"\n",
    "Splits values in a string Series (as part of a DataFrame) and sums the number\n",
    "of resulting items. Automatically appends summed column to original DataFrame.\n",
    "\n",
    "PARAMETERS\n",
    "----------\n",
    "col          : column to split\n",
    "df           : DataFrame where column is located\n",
    "sep          : string sequence to split by, default ' '\n",
    "new_col_name : name of new column after summing split, default\n",
    "               'number_of_names'\n",
    "\"\"\"\n",
    "    \n",
    "    df[new_col_name] = 0\n",
    "    \n",
    "    \n",
    "    for index, val in df.iterrows():\n",
    "        df.loc[index, new_col_name] = len(df.loc[index, col].split(sep = ' '))"
   ]
  },
  {
   "cell_type": "code",
   "execution_count": 6,
   "metadata": {
    "code_folding": [
     0
    ],
    "deletable": false,
    "editable": false
   },
   "outputs": [],
   "source": [
    "# optimal_neighbors UDF\n",
    "########################################\n",
    "def optimal_neighbors(x_data,\n",
    "                      y_data,\n",
    "                      standardize = True,\n",
    "                      pct_test=0.25,\n",
    "                      seed=219,\n",
    "                      response_type='reg',\n",
    "                      max_neighbors=20,\n",
    "                      show_viz=True):\n",
    "    \"\"\"\n",
    "Exhaustively compute training and testing results for KNN across\n",
    "[1, max_neighbors]. Outputs the maximum test score and (by default) a\n",
    "visualization of the results.\n",
    "PARAMETERS\n",
    "----------\n",
    "x_data        : explanatory variable data\n",
    "y_data        : response variable\n",
    "standardize   : whether or not to standardize the X data, default True\n",
    "pct_test      : test size for training and validation from (0,1), default 0.25\n",
    "seed          : random seed to be used in algorithm, default 219\n",
    "response_type : type of neighbors algorithm to use, default 'reg'\n",
    "    Use 'reg' for regression (KNeighborsRegressor)\n",
    "    Use 'class' for classification (KNeighborsClassifier)\n",
    "max_neighbors : maximum number of neighbors in exhaustive search, default 20\n",
    "show_viz      : display or surpress k-neigbors visualization, default True\n",
    "\"\"\"    \n",
    "    \n",
    "    \n",
    "    if standardize == True:\n",
    "        # optionally standardizing X_data\n",
    "        scaler             = StandardScaler()\n",
    "        scaler.fit(x_data)\n",
    "        x_scaled           = scaler.transform(x_data)\n",
    "        x_scaled_df        = pd.DataFrame(x_scaled)\n",
    "        x_data             = x_scaled_df\n",
    "\n",
    "\n",
    "\n",
    "    # train-test split\n",
    "    x_train, x_test, y_train, y_test = train_test_split(x_data,\n",
    "                                                        y_data,\n",
    "                                                        test_size = pct_test,\n",
    "                                                        random_state = seed)\n",
    "\n",
    "\n",
    "    # creating lists for training set accuracy and test set accuracy\n",
    "    training_accuracy = []\n",
    "    test_accuracy = []\n",
    "    \n",
    "    \n",
    "    # setting neighbor range\n",
    "    neighbors_settings = range(1, max_neighbors + 1)\n",
    "\n",
    "\n",
    "    for n_neighbors in neighbors_settings:\n",
    "        # building the model based on response variable type\n",
    "        if response_type == 'reg':\n",
    "            clf = KNeighborsRegressor(n_neighbors = n_neighbors)\n",
    "            clf.fit(x_train, y_train)\n",
    "            \n",
    "        elif response_type == 'class':\n",
    "            clf = KNeighborsClassifier(n_neighbors = n_neighbors)\n",
    "            clf.fit(x_train, y_train)            \n",
    "            \n",
    "        else:\n",
    "            print(\"Error: response_type must be 'reg' or 'class'\")\n",
    "        \n",
    "        \n",
    "        # recording the training set accuracy\n",
    "        training_accuracy.append(clf.score(x_train, y_train))\n",
    "    \n",
    "        # recording the generalization accuracy\n",
    "        test_accuracy.append(clf.score(x_test, y_test))\n",
    "\n",
    "\n",
    "    # optionally displaying visualization\n",
    "    if show_viz == True:\n",
    "        # plotting the visualization\n",
    "        fig, ax = plt.subplots(figsize=(12,8))\n",
    "        plt.plot(neighbors_settings, training_accuracy, label = \"training accuracy\")\n",
    "        plt.plot(neighbors_settings, test_accuracy, label = \"test accuracy\")\n",
    "        plt.ylabel(\"Accuracy\")\n",
    "        plt.xlabel(\"n_neighbors\")\n",
    "        plt.legend()\n",
    "        plt.show()\n",
    "    \n",
    "    \n",
    "    # returning optimal number of neighbors\n",
    "    print(f\"The optimal number of neighbors is: {test_accuracy.index(max(test_accuracy))+1}\")\n",
    "    return test_accuracy.index(max(test_accuracy))+1"
   ]
  },
  {
   "cell_type": "markdown",
   "metadata": {},
   "source": [
    "# Feature Engineering"
   ]
  },
  {
   "cell_type": "code",
   "execution_count": 7,
   "metadata": {
    "code_folding": [
     0
    ]
   },
   "outputs": [],
   "source": [
    "###Cleaning and Splitting Emails into Necessary Domains\n",
    "\n",
    "# STEP 1: splitting emails at the @ sign\n",
    "\n",
    "# placeholder list\n",
    "placeholder_lst = []\n",
    "\n",
    "# looping each email address\n",
    "for index, col in chef.iterrows():\n",
    "    \n",
    "    # splitting email domain at '@'\n",
    "    split_email = chef.loc[index, 'EMAIL'].split(sep = '@')\n",
    "    \n",
    "    # appending placeholder_lst with the results\n",
    "    placeholder_lst.append(split_email)\n",
    "    \n",
    "\n",
    "# convert to df \n",
    "email_df = pd.DataFrame(placeholder_lst)\n",
    "\n",
    "\n",
    "# STEP 2:CONCATENATING DOMAINS AS A NEW COLUMN IN CHEF DF\n",
    "\n",
    "# safety measure in case of multiple concatenations\n",
    "chef = pd.read_excel(file)\n",
    "\n",
    "\n",
    "# renaming column to concatenate\n",
    "email_df.columns = ['0' , 'EMAIL_DOMAINS']\n",
    "\n",
    "\n",
    "# concatenating email domains to chef\n",
    "#adds the column to the dataset\n",
    "chef = pd.concat([chef, email_df['EMAIL_DOMAINS']],\n",
    "                   axis = 1)\n",
    "\n",
    "# STEP 3: splitting emails at the '.'\n",
    "\n",
    "# dot holder list (emails with no dots)\n",
    "dotholder_lst = []\n",
    "\n",
    "# looping over each email address\n",
    "for index, col in chef.iterrows():\n",
    "    \n",
    "    # splitting email domain at '.'\n",
    "    dot_email = chef.loc[index, 'EMAIL_DOMAINS'].split(sep = '.')\n",
    "    \n",
    "    # appending dotholder_lst with the results\n",
    "    dotholder_lst.append(dot_email)\n",
    "    \n",
    "\n",
    "# converting cleanemail_df into a DataFrame \n",
    "cleanemail_df = pd.DataFrame(dotholder_lst)\n",
    "\n",
    "# # displaying the results\n",
    "# cleanemail_df\n",
    "\n",
    "# STEP 4 :CONCATENATING CLEAN EMAIL DOMAINS AS A NEW COLUMN IN CHEF DF\n",
    "\n",
    "# safety measure in case of multiple concatenations\n",
    "chef = pd.read_excel(file)\n",
    "\n",
    "\n",
    "# renaming column to concatenate\n",
    "cleanemail_df.columns = ['CLEAN_MAIL' , '1']\n",
    "\n",
    "#add the column to the dataset\n",
    "chef = pd.concat([chef, cleanemail_df['CLEAN_MAIL']],\n",
    "                   axis = 1)"
   ]
  },
  {
   "cell_type": "code",
   "execution_count": 11,
   "metadata": {
    "code_folding": [
     0
    ]
   },
   "outputs": [],
   "source": [
    "# STEP 5: Aggregating personal and work emails\n",
    "\n",
    "# email domain types\n",
    "personal_email_domains = ['gmail','protonmail','yahoo']\n",
    "\n",
    "work_email_domains  = ['amex','cocacola','jnj','merck',\n",
    "                       'mcdonalds','nike','apple','dupont','ibm',\n",
    "                       'ge','microsoft','chevron','travelers',\n",
    "                       'exxon','unitedhealth','boeing','caterpillar',\n",
    "                       'mmm','pg','verizon','walmart','disney',\n",
    "                       'pfizer','visa','jpmorgan','unitedtech',\n",
    "                       'cisco','goldmansacs','intel','homedepot']\n",
    "\n",
    "junk_email_domains = ['msn','aol','hotmail','live','me', 'passport']\n",
    "\n",
    "# placeholder list\n",
    "holder_lst = []\n",
    "\n",
    "# looping to group observations by domain type\n",
    "for domain in chef['CLEAN_MAIL']:\n",
    "    \n",
    "        if domain in personal_email_domains:\n",
    "            holder_lst.append('personal')\n",
    "            \n",
    "        elif domain in work_email_domains:\n",
    "            holder_lst.append('work')\n",
    "        \n",
    "        elif domain in junk_email_domains:\n",
    "            holder_lst.append('junk')\n",
    "            \n",
    "        else:\n",
    "            print('Unknown')\n",
    "\n",
    "\n",
    "# concatenating with original DataFrame\n",
    "chef['DOMAIN_GROUP'] = pd.Series(holder_lst)\n",
    "\n",
    "# # checking results\n",
    "# chef['DOMAIN_GROUP'].value_counts()"
   ]
  },
  {
   "cell_type": "code",
   "execution_count": 12,
   "metadata": {
    "code_folding": [
     0
    ]
   },
   "outputs": [],
   "source": [
    "## Taking out personal and work emails into columns \n",
    "# one hot encoding domain groups\n",
    "ONE_HOT_DOMAIN = pd.get_dummies(chef['DOMAIN_GROUP'])\n",
    "\n",
    "# dropping categorical variables after they've been encoded\n",
    "chef = chef.drop('DOMAIN_GROUP', axis = 1)\n",
    "\n",
    "# joining codings together\n",
    "chef = chef.join([ONE_HOT_DOMAIN])\n",
    "\n",
    "# saving new columns\n",
    "new_columns = chef.columns"
   ]
  },
  {
   "cell_type": "code",
   "execution_count": 13,
   "metadata": {
    "code_folding": [
     0
    ]
   },
   "outputs": [],
   "source": [
    "# calling text_split_feature to count names \n",
    "text_split_feature('NAME', chef, sep='')"
   ]
  },
  {
   "cell_type": "code",
   "execution_count": 16,
   "metadata": {
    "code_folding": [
     0
    ]
   },
   "outputs": [],
   "source": [
    "#creating dummies for customers that were above the average\n",
    "#L=[50%]\n",
    "# dummy variables for vars with zeros.\n",
    "chef['abv_TOTAL_MEALS_ORDERED']        = 0\n",
    "chef['abv_UNIQUE_MEALS_PURCH']        = 0\n",
    "for index, value in chef.iterrows():\n",
    "    \n",
    "    #total meals\n",
    "    if chef.loc[index, 'TOTAL_MEALS_ORDERED'] > chef.loc[:,'TOTAL_MEALS_ORDERED'].median():\n",
    "        chef.loc[index, 'abv_TOTAL_MEALS_ORDERED'] = 1\n",
    "        \n",
    "    #uniqe meals\n",
    "    if chef.loc[index, 'UNIQUE_MEALS_PURCH'] > chef.loc[:,'UNIQUE_MEALS_PURCH'].median():\n",
    "        chef.loc[index, 'abv_UNIQUE_MEALS_PURCH'] = 1  \n",
    "        \n",
    "#printing out variables        \n",
    "# chef[['abv_TOTAL_MEALS_ORDERED','abv_UNIQUE_MEALS_PURCH']].head()"
   ]
  },
  {
   "cell_type": "code",
   "execution_count": 17,
   "metadata": {
    "code_folding": [
     0
    ]
   },
   "outputs": [],
   "source": [
    "# creating a column for avg price meal\n",
    "chef['AVG_PRICE_MEAL'] = chef['REVENUE']/chef['TOTAL_MEALS_ORDERED'].round(2)\n",
    "\n",
    "#types of users \n",
    "chef['med_rater']     = 0\n",
    "\n",
    "#itterating through the data to create user data\n",
    "for index, val in chef.iterrows():\n",
    "        \n",
    "    #median rating for the price of meal if effected\n",
    "    if chef.loc[index, 'MEDIAN_MEAL_RATING'] <= 3 and chef.loc[index, 'AVG_PRICE_MEAL'] > 34:\n",
    "        chef.loc[index, 'med_rater'] = 1  \n",
    "\n",
    "#checking variables just initiated \n",
    "# chef['med_rater'].head()"
   ]
  },
  {
   "cell_type": "code",
   "execution_count": 18,
   "metadata": {},
   "outputs": [],
   "source": [
    "# saving feature-rich Chef dataset in excel\n",
    "chef.to_excel('Chef_Ft_Classification.xlsx',index = False)"
   ]
  },
  {
   "cell_type": "markdown",
   "metadata": {},
   "source": [
    "# Organizing Data"
   ]
  },
  {
   "cell_type": "code",
   "execution_count": 19,
   "metadata": {
    "code_folding": [
     0
    ]
   },
   "outputs": [],
   "source": [
    "#dropping categorical variables/variables with strings\n",
    "\n",
    "# declaring x-variables\n",
    "chef_data = chef.drop(['CROSS_SELL_SUCCESS', 'NAME', 'EMAIL',\n",
    "                       'FIRST_NAME', 'FAMILY_NAME', 'CLEAN_MAIL'], axis = 1)"
   ]
  },
  {
   "cell_type": "code",
   "execution_count": 21,
   "metadata": {
    "code_folding": [
     0
    ]
   },
   "outputs": [],
   "source": [
    "#checking correlations of the dataset and engineered features \n",
    "chef_corr = chef.corr().round(2)\n",
    "\n",
    "# chef_corr['CROSS_SELL_SUCCESS'].sort_values(ascending = False)"
   ]
  },
  {
   "cell_type": "code",
   "execution_count": 22,
   "metadata": {
    "code_folding": [
     0
    ]
   },
   "outputs": [],
   "source": [
    "# declaring explanatory variables\n",
    "chef_data = chef.drop(['CROSS_SELL_SUCCESS', 'NAME', 'EMAIL',\n",
    "                       'FIRST_NAME', 'FAMILY_NAME', 'CLEAN_MAIL'], axis = 1)\n",
    "\n",
    "# declaring response variable\n",
    "chef_target = chef.loc[ : , 'CROSS_SELL_SUCCESS']\n",
    "\n",
    "# train-test split with stratification\n",
    "x_train, x_test, y_train, y_test = train_test_split(\n",
    "            chef_data,\n",
    "            chef_target,\n",
    "            test_size    = 0.25,\n",
    "            random_state = 219,\n",
    "            stratify     = chef_target)\n",
    "\n",
    "\n",
    "# merging training data for statsmodels\n",
    "chef_train = pd.concat([x_train, y_train], axis = 1)"
   ]
  },
  {
   "cell_type": "code",
   "execution_count": 25,
   "metadata": {
    "deletable": false,
    "editable": false,
    "run_control": {
     "frozen": true
    }
   },
   "outputs": [
    {
     "name": "stdout",
     "output_type": "stream",
     "text": [
      " REVENUE + \n",
      " TOTAL_MEALS_ORDERED + \n",
      " UNIQUE_MEALS_PURCH + \n",
      " CONTACTS_W_CUSTOMER_SERVICE + \n",
      " PRODUCT_CATEGORIES_VIEWED + \n",
      " AVG_TIME_PER_SITE_VISIT + \n",
      " MOBILE_NUMBER + \n",
      " CANCELLATIONS_BEFORE_NOON + \n",
      " CANCELLATIONS_AFTER_NOON + \n",
      " TASTES_AND_PREFERENCES + \n",
      " PC_LOGINS + \n",
      " MOBILE_LOGINS + \n",
      " WEEKLY_PLAN + \n",
      " EARLY_DELIVERIES + \n",
      " LATE_DELIVERIES + \n",
      " PACKAGE_LOCKER + \n",
      " REFRIGERATED_LOCKER + \n",
      " AVG_PREP_VID_TIME + \n",
      " LARGEST_ORDER_SIZE + \n",
      " MASTER_CLASSES_ATTENDED + \n",
      " MEDIAN_MEAL_RATING + \n",
      " AVG_CLICKS_PER_VISIT + \n",
      " TOTAL_PHOTOS_VIEWED + \n",
      " junk + \n",
      " personal + \n",
      " work + \n",
      " NUM_OF_NAMES + \n",
      " abv_TOTAL_MEALS_ORDERED + \n",
      " abv_UNIQUE_MEALS_PURCH + \n",
      " AVG_PRICE_MEAL + \n",
      " med_rater + \n"
     ]
    }
   ],
   "source": [
    "#adding a + to each variable\n",
    "#locked to not print\n",
    "#used to determine significant variables based on p-values below\n",
    "for val in chef_data:\n",
    "    print(f\" {val} + \")"
   ]
  },
  {
   "cell_type": "code",
   "execution_count": 23,
   "metadata": {
    "code_folding": [
     0
    ]
   },
   "outputs": [
    {
     "name": "stdout",
     "output_type": "stream",
     "text": [
      "Optimization terminated successfully.\n",
      "         Current function value: 0.540243\n",
      "         Iterations 6\n"
     ]
    },
    {
     "data": {
      "text/html": [
       "<table class=\"simpletable\">\n",
       "<caption>Logit Regression Results</caption>\n",
       "<tr>\n",
       "  <th>Dep. Variable:</th>   <td>CROSS_SELL_SUCCESS</td> <th>  No. Observations:  </th>  <td>  1459</td>  \n",
       "</tr>\n",
       "<tr>\n",
       "  <th>Model:</th>                  <td>Logit</td>       <th>  Df Residuals:      </th>  <td>  1448</td>  \n",
       "</tr>\n",
       "<tr>\n",
       "  <th>Method:</th>                  <td>MLE</td>        <th>  Df Model:          </th>  <td>    10</td>  \n",
       "</tr>\n",
       "<tr>\n",
       "  <th>Date:</th>             <td>Tue, 16 Mar 2021</td>  <th>  Pseudo R-squ.:     </th>  <td>0.1397</td>  \n",
       "</tr>\n",
       "<tr>\n",
       "  <th>Time:</th>                 <td>13:09:50</td>      <th>  Log-Likelihood:    </th> <td> -788.22</td> \n",
       "</tr>\n",
       "<tr>\n",
       "  <th>converged:</th>              <td>True</td>        <th>  LL-Null:           </th> <td> -916.19</td> \n",
       "</tr>\n",
       "<tr>\n",
       "  <th>Covariance Type:</th>      <td>nonrobust</td>     <th>  LLR p-value:       </th> <td>3.032e-49</td>\n",
       "</tr>\n",
       "</table>\n",
       "<table class=\"simpletable\">\n",
       "<tr>\n",
       "              <td></td>                 <th>coef</th>     <th>std err</th>      <th>z</th>      <th>P>|z|</th>  <th>[0.025</th>    <th>0.975]</th>  \n",
       "</tr>\n",
       "<tr>\n",
       "  <th>Intercept</th>                 <td>   -4.1156</td> <td>    0.674</td> <td>   -6.105</td> <td> 0.000</td> <td>   -5.437</td> <td>   -2.794</td>\n",
       "</tr>\n",
       "<tr>\n",
       "  <th>MOBILE_NUMBER</th>             <td>    0.9029</td> <td>    0.177</td> <td>    5.101</td> <td> 0.000</td> <td>    0.556</td> <td>    1.250</td>\n",
       "</tr>\n",
       "<tr>\n",
       "  <th>CANCELLATIONS_BEFORE_NOON</th> <td>    0.2804</td> <td>    0.046</td> <td>    6.033</td> <td> 0.000</td> <td>    0.189</td> <td>    0.371</td>\n",
       "</tr>\n",
       "<tr>\n",
       "  <th>TASTES_AND_PREFERENCES</th>    <td>    0.4083</td> <td>    0.136</td> <td>    3.006</td> <td> 0.003</td> <td>    0.142</td> <td>    0.674</td>\n",
       "</tr>\n",
       "<tr>\n",
       "  <th>PC_LOGINS</th>                 <td>    0.2317</td> <td>    0.107</td> <td>    2.159</td> <td> 0.031</td> <td>    0.021</td> <td>    0.442</td>\n",
       "</tr>\n",
       "<tr>\n",
       "  <th>EARLY_DELIVERIES</th>          <td>    0.0571</td> <td>    0.028</td> <td>    2.065</td> <td> 0.039</td> <td>    0.003</td> <td>    0.111</td>\n",
       "</tr>\n",
       "<tr>\n",
       "  <th>REFRIGERATED_LOCKER</th>       <td>    0.5204</td> <td>    0.208</td> <td>    2.498</td> <td> 0.013</td> <td>    0.112</td> <td>    0.929</td>\n",
       "</tr>\n",
       "<tr>\n",
       "  <th>work</th>                      <td>    1.9067</td> <td>    0.172</td> <td>   11.093</td> <td> 0.000</td> <td>    1.570</td> <td>    2.244</td>\n",
       "</tr>\n",
       "<tr>\n",
       "  <th>personal</th>                  <td>    1.3214</td> <td>    0.158</td> <td>    8.387</td> <td> 0.000</td> <td>    1.013</td> <td>    1.630</td>\n",
       "</tr>\n",
       "<tr>\n",
       "  <th>NUM_OF_NAMES</th>              <td>    0.5479</td> <td>    0.094</td> <td>    5.834</td> <td> 0.000</td> <td>    0.364</td> <td>    0.732</td>\n",
       "</tr>\n",
       "<tr>\n",
       "  <th>med_rater</th>                 <td>   -0.3765</td> <td>    0.124</td> <td>   -3.030</td> <td> 0.002</td> <td>   -0.620</td> <td>   -0.133</td>\n",
       "</tr>\n",
       "</table>"
      ],
      "text/plain": [
       "<class 'statsmodels.iolib.summary.Summary'>\n",
       "\"\"\"\n",
       "                           Logit Regression Results                           \n",
       "==============================================================================\n",
       "Dep. Variable:     CROSS_SELL_SUCCESS   No. Observations:                 1459\n",
       "Model:                          Logit   Df Residuals:                     1448\n",
       "Method:                           MLE   Df Model:                           10\n",
       "Date:                Tue, 16 Mar 2021   Pseudo R-squ.:                  0.1397\n",
       "Time:                        13:09:50   Log-Likelihood:                -788.22\n",
       "converged:                       True   LL-Null:                       -916.19\n",
       "Covariance Type:            nonrobust   LLR p-value:                 3.032e-49\n",
       "=============================================================================================\n",
       "                                coef    std err          z      P>|z|      [0.025      0.975]\n",
       "---------------------------------------------------------------------------------------------\n",
       "Intercept                    -4.1156      0.674     -6.105      0.000      -5.437      -2.794\n",
       "MOBILE_NUMBER                 0.9029      0.177      5.101      0.000       0.556       1.250\n",
       "CANCELLATIONS_BEFORE_NOON     0.2804      0.046      6.033      0.000       0.189       0.371\n",
       "TASTES_AND_PREFERENCES        0.4083      0.136      3.006      0.003       0.142       0.674\n",
       "PC_LOGINS                     0.2317      0.107      2.159      0.031       0.021       0.442\n",
       "EARLY_DELIVERIES              0.0571      0.028      2.065      0.039       0.003       0.111\n",
       "REFRIGERATED_LOCKER           0.5204      0.208      2.498      0.013       0.112       0.929\n",
       "work                          1.9067      0.172     11.093      0.000       1.570       2.244\n",
       "personal                      1.3214      0.158      8.387      0.000       1.013       1.630\n",
       "NUM_OF_NAMES                  0.5479      0.094      5.834      0.000       0.364       0.732\n",
       "med_rater                    -0.3765      0.124     -3.030      0.002      -0.620      -0.133\n",
       "=============================================================================================\n",
       "\"\"\""
      ]
     },
     "execution_count": 23,
     "metadata": {},
     "output_type": "execute_result"
    }
   ],
   "source": [
    "##      LOG REGRESSION MODEL W/STATSMOD      ##\n",
    "###############################################\n",
    "\n",
    "#significant set 2\n",
    "# instantiating a logistic regression model object\n",
    "logistic_full = smf.logit(formula = \"\"\" CROSS_SELL_SUCCESS ~ \n",
    "                                         MOBILE_NUMBER + \n",
    "                                         CANCELLATIONS_BEFORE_NOON +  \n",
    "                                         TASTES_AND_PREFERENCES + \n",
    "                                         PC_LOGINS + \n",
    "                                         EARLY_DELIVERIES + \n",
    "                                         REFRIGERATED_LOCKER + \n",
    "                                         work + \n",
    "                                         personal + \n",
    "                                         NUM_OF_NAMES +\n",
    "                                         med_rater\"\"\",\n",
    "                                        data = chef_train)\n",
    "\n",
    "\n",
    "# fitting the model object\n",
    "results_full = logistic_full.fit()\n",
    "\n",
    "\n",
    "# checking the results SUMMARY\n",
    "results_full.summary()"
   ]
  },
  {
   "cell_type": "code",
   "execution_count": 26,
   "metadata": {
    "code_folding": [
     0
    ]
   },
   "outputs": [
    {
     "name": "stdout",
     "output_type": "stream",
     "text": [
      "Optimization terminated successfully.\n",
      "         Current function value: 0.536436\n",
      "         Iterations 6\n"
     ]
    },
    {
     "data": {
      "text/html": [
       "<table class=\"simpletable\">\n",
       "<caption>Logit Regression Results</caption>\n",
       "<tr>\n",
       "  <th>Dep. Variable:</th>   <td>CROSS_SELL_SUCCESS</td> <th>  No. Observations:  </th>  <td>  1459</td>  \n",
       "</tr>\n",
       "<tr>\n",
       "  <th>Model:</th>                  <td>Logit</td>       <th>  Df Residuals:      </th>  <td>  1444</td>  \n",
       "</tr>\n",
       "<tr>\n",
       "  <th>Method:</th>                  <td>MLE</td>        <th>  Df Model:          </th>  <td>    14</td>  \n",
       "</tr>\n",
       "<tr>\n",
       "  <th>Date:</th>             <td>Tue, 16 Mar 2021</td>  <th>  Pseudo R-squ.:     </th>  <td>0.1457</td>  \n",
       "</tr>\n",
       "<tr>\n",
       "  <th>Time:</th>                 <td>13:11:27</td>      <th>  Log-Likelihood:    </th> <td> -782.66</td> \n",
       "</tr>\n",
       "<tr>\n",
       "  <th>converged:</th>              <td>True</td>        <th>  LL-Null:           </th> <td> -916.19</td> \n",
       "</tr>\n",
       "<tr>\n",
       "  <th>Covariance Type:</th>      <td>nonrobust</td>     <th>  LLR p-value:       </th> <td>8.381e-49</td>\n",
       "</tr>\n",
       "</table>\n",
       "<table class=\"simpletable\">\n",
       "<tr>\n",
       "               <td></td>                  <th>coef</th>     <th>std err</th>      <th>z</th>      <th>P>|z|</th>  <th>[0.025</th>    <th>0.975]</th>  \n",
       "</tr>\n",
       "<tr>\n",
       "  <th>Intercept</th>                   <td>   -3.3112</td> <td>    0.696</td> <td>   -4.759</td> <td> 0.000</td> <td>   -4.675</td> <td>   -1.948</td>\n",
       "</tr>\n",
       "<tr>\n",
       "  <th>REVENUE</th>                     <td>-9.317e-05</td> <td> 6.91e-05</td> <td>   -1.349</td> <td> 0.177</td> <td>   -0.000</td> <td> 4.22e-05</td>\n",
       "</tr>\n",
       "<tr>\n",
       "  <th>CONTACTS_W_CUSTOMER_SERVICE</th> <td>    0.0701</td> <td>    0.028</td> <td>    2.486</td> <td> 0.013</td> <td>    0.015</td> <td>    0.125</td>\n",
       "</tr>\n",
       "<tr>\n",
       "  <th>MOBILE_NUMBER</th>               <td>    0.9189</td> <td>    0.178</td> <td>    5.155</td> <td> 0.000</td> <td>    0.570</td> <td>    1.268</td>\n",
       "</tr>\n",
       "<tr>\n",
       "  <th>CANCELLATIONS_BEFORE_NOON</th>   <td>    0.2785</td> <td>    0.047</td> <td>    5.951</td> <td> 0.000</td> <td>    0.187</td> <td>    0.370</td>\n",
       "</tr>\n",
       "<tr>\n",
       "  <th>TASTES_AND_PREFERENCES</th>      <td>    0.3975</td> <td>    0.137</td> <td>    2.910</td> <td> 0.004</td> <td>    0.130</td> <td>    0.665</td>\n",
       "</tr>\n",
       "<tr>\n",
       "  <th>PC_LOGINS</th>                   <td>    0.2392</td> <td>    0.108</td> <td>    2.217</td> <td> 0.027</td> <td>    0.028</td> <td>    0.451</td>\n",
       "</tr>\n",
       "<tr>\n",
       "  <th>EARLY_DELIVERIES</th>            <td>    0.0572</td> <td>    0.028</td> <td>    2.064</td> <td> 0.039</td> <td>    0.003</td> <td>    0.112</td>\n",
       "</tr>\n",
       "<tr>\n",
       "  <th>REFRIGERATED_LOCKER</th>         <td>    0.5291</td> <td>    0.210</td> <td>    2.522</td> <td> 0.012</td> <td>    0.118</td> <td>    0.940</td>\n",
       "</tr>\n",
       "<tr>\n",
       "  <th>MASTER_CLASSES_ATTENDED</th>     <td>    0.2369</td> <td>    0.109</td> <td>    2.169</td> <td> 0.030</td> <td>    0.023</td> <td>    0.451</td>\n",
       "</tr>\n",
       "<tr>\n",
       "  <th>junk</th>                        <td>   -1.3536</td> <td>    0.160</td> <td>   -8.465</td> <td> 0.000</td> <td>   -1.667</td> <td>   -1.040</td>\n",
       "</tr>\n",
       "<tr>\n",
       "  <th>work</th>                        <td>    0.5922</td> <td>    0.145</td> <td>    4.081</td> <td> 0.000</td> <td>    0.308</td> <td>    0.877</td>\n",
       "</tr>\n",
       "<tr>\n",
       "  <th>NUM_OF_NAMES</th>                <td>    0.5572</td> <td>    0.094</td> <td>    5.916</td> <td> 0.000</td> <td>    0.373</td> <td>    0.742</td>\n",
       "</tr>\n",
       "<tr>\n",
       "  <th>abv_TOTAL_MEALS_ORDERED</th>     <td>    0.0772</td> <td>    0.180</td> <td>    0.429</td> <td> 0.668</td> <td>   -0.275</td> <td>    0.430</td>\n",
       "</tr>\n",
       "<tr>\n",
       "  <th>med_rater</th>                   <td>   -0.3882</td> <td>    0.163</td> <td>   -2.378</td> <td> 0.017</td> <td>   -0.708</td> <td>   -0.068</td>\n",
       "</tr>\n",
       "</table>"
      ],
      "text/plain": [
       "<class 'statsmodels.iolib.summary.Summary'>\n",
       "\"\"\"\n",
       "                           Logit Regression Results                           \n",
       "==============================================================================\n",
       "Dep. Variable:     CROSS_SELL_SUCCESS   No. Observations:                 1459\n",
       "Model:                          Logit   Df Residuals:                     1444\n",
       "Method:                           MLE   Df Model:                           14\n",
       "Date:                Tue, 16 Mar 2021   Pseudo R-squ.:                  0.1457\n",
       "Time:                        13:11:27   Log-Likelihood:                -782.66\n",
       "converged:                       True   LL-Null:                       -916.19\n",
       "Covariance Type:            nonrobust   LLR p-value:                 8.381e-49\n",
       "===============================================================================================\n",
       "                                  coef    std err          z      P>|z|      [0.025      0.975]\n",
       "-----------------------------------------------------------------------------------------------\n",
       "Intercept                      -3.3112      0.696     -4.759      0.000      -4.675      -1.948\n",
       "REVENUE                     -9.317e-05   6.91e-05     -1.349      0.177      -0.000    4.22e-05\n",
       "CONTACTS_W_CUSTOMER_SERVICE     0.0701      0.028      2.486      0.013       0.015       0.125\n",
       "MOBILE_NUMBER                   0.9189      0.178      5.155      0.000       0.570       1.268\n",
       "CANCELLATIONS_BEFORE_NOON       0.2785      0.047      5.951      0.000       0.187       0.370\n",
       "TASTES_AND_PREFERENCES          0.3975      0.137      2.910      0.004       0.130       0.665\n",
       "PC_LOGINS                       0.2392      0.108      2.217      0.027       0.028       0.451\n",
       "EARLY_DELIVERIES                0.0572      0.028      2.064      0.039       0.003       0.112\n",
       "REFRIGERATED_LOCKER             0.5291      0.210      2.522      0.012       0.118       0.940\n",
       "MASTER_CLASSES_ATTENDED         0.2369      0.109      2.169      0.030       0.023       0.451\n",
       "junk                           -1.3536      0.160     -8.465      0.000      -1.667      -1.040\n",
       "work                            0.5922      0.145      4.081      0.000       0.308       0.877\n",
       "NUM_OF_NAMES                    0.5572      0.094      5.916      0.000       0.373       0.742\n",
       "abv_TOTAL_MEALS_ORDERED         0.0772      0.180      0.429      0.668      -0.275       0.430\n",
       "med_rater                      -0.3882      0.163     -2.378      0.017      -0.708      -0.068\n",
       "===============================================================================================\n",
       "\"\"\""
      ]
     },
     "execution_count": 26,
     "metadata": {},
     "output_type": "execute_result"
    }
   ],
   "source": [
    "##  LOG REGRESSION MODEL W/STATSMOD & SET 3  ##\n",
    "###############################################\n",
    "\n",
    "#significant set 3\n",
    "# instantiating a logistic regression model object\n",
    "logistic_full = smf.logit(formula = \"\"\" CROSS_SELL_SUCCESS ~ \n",
    "                                         REVENUE +\n",
    "                                         CONTACTS_W_CUSTOMER_SERVICE +\n",
    "                                         MOBILE_NUMBER + \n",
    "                                         CANCELLATIONS_BEFORE_NOON +\n",
    "                                         TASTES_AND_PREFERENCES + \n",
    "                                         PC_LOGINS +\n",
    "                                         EARLY_DELIVERIES +\n",
    "                                         REFRIGERATED_LOCKER +\n",
    "                                         MASTER_CLASSES_ATTENDED +\n",
    "                                         junk + \n",
    "                                         work + \n",
    "                                         NUM_OF_NAMES + \n",
    "                                         abv_TOTAL_MEALS_ORDERED +\n",
    "                                         med_rater  \"\"\",\n",
    "                                        data = chef_train)\n",
    "\n",
    "\n",
    "# fitting the model object\n",
    "results_full = logistic_full.fit()\n",
    "\n",
    "\n",
    "# checking the results SUMMARY\n",
    "results_full.summary()"
   ]
  },
  {
   "cell_type": "markdown",
   "metadata": {},
   "source": [
    "# LOGISTIC REGRESSION"
   ]
  },
  {
   "cell_type": "code",
   "execution_count": 33,
   "metadata": {
    "code_folding": [
     0
    ]
   },
   "outputs": [],
   "source": [
    "# creating a variable dictionary to store candidate models\n",
    "\n",
    "variable_dict = {\n",
    "\n",
    " # full model\n",
    " 'logit_full'   : ['REVENUE','TOTAL_MEALS_ORDERED','UNIQUE_MEALS_PURCH',\n",
    "                   'CONTACTS_W_CUSTOMER_SERVICE','PRODUCT_CATEGORIES_VIEWED',\n",
    "                   'AVG_TIME_PER_SITE_VISIT','MOBILE_NUMBER','CANCELLATIONS_BEFORE_NOON',\n",
    "                   'CANCELLATIONS_AFTER_NOON','TASTES_AND_PREFERENCES','PC_LOGINS',\n",
    "                   'MOBILE_LOGINS','WEEKLY_PLAN','EARLY_DELIVERIES','LATE_DELIVERIES',\n",
    "                   'PACKAGE_LOCKER','REFRIGERATED_LOCKER','AVG_PREP_VID_TIME',\n",
    "                   'LARGEST_ORDER_SIZE','MASTER_CLASSES_ATTENDED','MEDIAN_MEAL_RATING',\n",
    "                   'AVG_CLICKS_PER_VISIT','TOTAL_PHOTOS_VIEWED','junk','personal',\n",
    "                   'work','NUM_OF_NAMES','abv_TOTAL_MEALS_ORDERED','abv_UNIQUE_MEALS_PURCH',\n",
    "                   'AVG_PRICE_MEAL','med_rater'],\n",
    " \n",
    " # significant variables only (set 1)\n",
    " 'logit_sig'    : ['MOBILE_NUMBER','CANCELLATIONS_BEFORE_NOON',\n",
    "                   'TASTES_AND_PREFERENCES','NUM_OF_NAMES',\n",
    "                   'PC_LOGINS','EARLY_DELIVERIES',\n",
    "                   'work','personal','REFRIGERATED_LOCKER',\n",
    "                   'abv_TOTAL_MEALS_ORDERED'],\n",
    "\n",
    " # significant variables only (set 2)\n",
    " 'logit_sig_2'  : ['MOBILE_NUMBER', 'CANCELLATIONS_BEFORE_NOON', \n",
    "                  'TASTES_AND_PREFERENCES', 'PC_LOGINS', 'EARLY_DELIVERIES',\n",
    "                  'REFRIGERATED_LOCKER', 'junk', 'work', \n",
    "                  'NUM_OF_NAMES'],\n",
    " \n",
    " # significant variables only (set 3)\n",
    " 'logit_sig_3'  : ['REVENUE','CONTACTS_W_CUSTOMER_SERVICE','MOBILE_NUMBER',\n",
    "                   'CANCELLATIONS_BEFORE_NOON','TASTES_AND_PREFERENCES',\n",
    "                   'PC_LOGINS','EARLY_DELIVERIES','REFRIGERATED_LOCKER',\n",
    "                   'MASTER_CLASSES_ATTENDED','junk','work','NUM_OF_NAMES',\n",
    "                   'abv_TOTAL_MEALS_ORDERED','med_rater' ]\n",
    "\n",
    "    \n",
    "}"
   ]
  },
  {
   "cell_type": "code",
   "execution_count": 34,
   "metadata": {
    "code_folding": [
     0
    ]
   },
   "outputs": [],
   "source": [
    "#declaring variables for the log reg model\n",
    "chef_data   =  chef.loc[ : , variable_dict['logit_full']]\n",
    "chef_target =  chef.loc[ : , 'CROSS_SELL_SUCCESS']\n",
    "\n",
    "# train/test split\n",
    "x_train, x_test, y_train, y_test = train_test_split(\n",
    "                                chef_data,\n",
    "                                chef_target,\n",
    "                                random_state = 219,\n",
    "                                test_size    = 0.25,\n",
    "                                stratify     = chef_target)"
   ]
  },
  {
   "cell_type": "markdown",
   "metadata": {},
   "source": [
    "## Logistic Regression Tuned "
   ]
  },
  {
   "cell_type": "code",
   "execution_count": null,
   "metadata": {
    "code_folding": [
     0
    ],
    "deletable": false,
    "editable": false,
    "run_control": {
     "frozen": true
    }
   },
   "outputs": [],
   "source": [
    "# PARAMETER TUNING for LOG REGRESSION #\n",
    "########################################\n",
    "\n",
    "# declaring a hyperparameter space\n",
    "C_space          = pd.np.arange(0.1, 5.0, 0.1)\n",
    "warm_start_space = [True, False]\n",
    "solver_space     = ['newton-cg', 'sag', 'lbfgs']\n",
    "\n",
    "\n",
    "# creating a hyperparameter grid\n",
    "param_grid = {'C'          : C_space,\n",
    "              'warm_start' : warm_start_space,\n",
    "              'solver'     : solver_space}\n",
    "\n",
    "\n",
    "#the model object without hyperparameters\n",
    "lr_tuned = LogisticRegression(random_state = 219,\n",
    "                              max_iter     = 1000)\n",
    "\n",
    "# GridSearchCV object paramters\n",
    "lr_tuned_cv = RandomizedSearchCV(estimator           = lr_tuned,  \n",
    "                                 param_distributions = param_grid, \n",
    "                                 cv                  = 3,         \n",
    "                                 n_iter              = 1000,        \n",
    "                                 random_state        = 219,       \n",
    "                                 scoring = make_scorer(\n",
    "                                           roc_auc_score,\n",
    "                                           needs_threshold = False)) # scoring criteria (AUC)\n",
    "\n",
    "# FITTING to the FULL DATASET (due to cross-validation)\n",
    "lr_tuned_cv.fit(chef_data, chef_target)\n",
    "\n",
    "# printing the optimal parameters and best score\n",
    "print(\"Tuned Parameters  :\", lr_tuned_cv.best_params_)\n",
    "print(\"Tuned CV AUC      :\", lr_tuned_cv.best_score_.round(4))"
   ]
  },
  {
   "cell_type": "code",
   "execution_count": 35,
   "metadata": {
    "code_folding": [
     0
    ]
   },
   "outputs": [
    {
     "name": "stdout",
     "output_type": "stream",
     "text": [
      "LR Tuned Training ACCURACY: 0.7464\n",
      "LR Tuned Testing  ACCURACY: 0.7515\n",
      "LR Tuned AUC Score        : 0.6596\n"
     ]
    }
   ],
   "source": [
    "# INSTANTIATING a logistic regression model with tuned parameters\n",
    "#parameters come from above when tuning the model below\n",
    "\n",
    "lr_tuned = LogisticRegression(C            = 3.2,\n",
    "                              random_state = 219, \n",
    "                              solver       = 'newton-cg', \n",
    "                              warm_start   = True)\n",
    "\n",
    "#fitting the data\n",
    "lr_tuned_fit = lr_tuned.fit(x_train, y_train)\n",
    "\n",
    "# PREDICTING based on the testing set\n",
    "lr_tuned_pred = lr_tuned.predict(x_test)\n",
    "\n",
    "\n",
    "# SCORING the results\n",
    "print('LR Tuned Training ACCURACY:', lr_tuned.score(x_train, y_train).round(4))\n",
    "print('LR Tuned Testing  ACCURACY:', lr_tuned.score(x_test, y_test).round(4))\n",
    "print('LR Tuned AUC Score        :', roc_auc_score(y_true  = y_test,\n",
    "                                          y_score = lr_tuned_pred).round(4))\n",
    "\n",
    "\n",
    "# saving scoring data for future use\n",
    "lr_tuned_train_score = lr_tuned.score(x_train, y_train).round(4) # accuracy\n",
    "lr_tuned_test_score  = lr_tuned.score(x_test, y_test).round(4)   # accuracy\n",
    "\n",
    "\n",
    "# saving the AUC score\n",
    "lr_tuned_auc         = roc_auc_score(y_true  = y_test,\n",
    "                                     y_score = lr_tuned_pred).round(4) # auc"
   ]
  },
  {
   "cell_type": "code",
   "execution_count": 36,
   "metadata": {
    "code_folding": [
     0
    ]
   },
   "outputs": [],
   "source": [
    "# unpacking the confusion matrix\n",
    "lrtuned_tn, \\\n",
    "lrtuned_fp, \\\n",
    "lrtuned_fn, \\\n",
    "lrtuned_tp = confusion_matrix(y_true = y_test, y_pred = lr_tuned_pred).ravel()"
   ]
  },
  {
   "cell_type": "markdown",
   "metadata": {},
   "source": [
    "# Classification Trees"
   ]
  },
  {
   "cell_type": "markdown",
   "metadata": {},
   "source": [
    "## Full Tree"
   ]
  },
  {
   "cell_type": "code",
   "execution_count": 37,
   "metadata": {
    "code_folding": [
     0
    ]
   },
   "outputs": [],
   "source": [
    "#Initiating the data to be used on the full tree\n",
    "chef_data   =  chef.loc[ : , variable_dict['logit_full']]\n",
    "chef_target =  chef.loc[ : , 'CROSS_SELL_SUCCESS']\n",
    "\n",
    "# train/test split\n",
    "x_train, x_test, y_train, y_test = train_test_split(\n",
    "                                chef_data,\n",
    "                                chef_target,\n",
    "                                random_state = 219,\n",
    "                                test_size    = 0.25,\n",
    "                                stratify     = chef_target)"
   ]
  },
  {
   "cell_type": "code",
   "execution_count": 38,
   "metadata": {
    "code_folding": [
     0
    ]
   },
   "outputs": [
    {
     "name": "stdout",
     "output_type": "stream",
     "text": [
      "Full Tree Training ACCURACY: 1.0\n",
      "Full Tree Testing ACCURACY : 0.6509\n",
      "Full Tree AUC Score: 0.6127\n"
     ]
    }
   ],
   "source": [
    "# Initiating a Full Tree Model\n",
    "full_tree = DecisionTreeClassifier()\n",
    "\n",
    "\n",
    "# FITTING the training data\n",
    "full_tree_fit = full_tree.fit(x_train, y_train)\n",
    "\n",
    "\n",
    "# PREDICTING on new data\n",
    "full_tree_pred = full_tree_fit.predict(x_test)\n",
    "\n",
    "\n",
    "# SCORING the model\n",
    "print('Full Tree Training ACCURACY:', full_tree_fit.score(x_train,\n",
    "                                                    y_train).round(4))\n",
    "\n",
    "print('Full Tree Testing ACCURACY :', full_tree_fit.score(x_test,\n",
    "                                                    y_test).round(4))\n",
    "\n",
    "print('Full Tree AUC Score:', roc_auc_score(y_true  = y_test,\n",
    "                                            y_score = full_tree_pred).round(4))\n",
    "\n",
    "# save scores\n",
    "full_tree_train_score = full_tree_fit.score(x_train, y_train).round(4) # accuracy\n",
    "full_tree_test_score  = full_tree_fit.score(x_test, y_test).round(4)   # accuracy\n",
    "\n",
    "# saving AUC\n",
    "full_tree_auc_score   = roc_auc_score(y_true  = y_test,\n",
    "                                      y_score = full_tree_pred).round(4) # auc"
   ]
  },
  {
   "cell_type": "code",
   "execution_count": 39,
   "metadata": {
    "code_folding": [
     0
    ]
   },
   "outputs": [],
   "source": [
    "# unpacking the confusion matrix\n",
    "full_tree_tn, \\\n",
    "full_tree_fp, \\\n",
    "full_tree_fn, \\\n",
    "full_tree_tp = confusion_matrix(y_true = y_test, y_pred = full_tree_pred).ravel()"
   ]
  },
  {
   "cell_type": "markdown",
   "metadata": {},
   "source": [
    "## Pruned Tree "
   ]
  },
  {
   "cell_type": "code",
   "execution_count": 40,
   "metadata": {
    "code_folding": [
     0
    ]
   },
   "outputs": [],
   "source": [
    "#Initiating data in the pruned tree model\n",
    "chef_data   =  chef.loc[ : , variable_dict['logit_full']]\n",
    "chef_target =  chef.loc[ : , 'CROSS_SELL_SUCCESS']\n",
    "\n",
    "# train/test split\n",
    "x_train, x_test, y_train, y_test = train_test_split(\n",
    "                    chef_data,\n",
    "                    chef_target,\n",
    "                    random_state = 219,\n",
    "                    test_size    = 0.25,\n",
    "                    stratify     = chef_target)"
   ]
  },
  {
   "cell_type": "code",
   "execution_count": 41,
   "metadata": {
    "code_folding": [
     0
    ]
   },
   "outputs": [
    {
     "name": "stdout",
     "output_type": "stream",
     "text": [
      "Training ACCURACY: 0.7402\n",
      "Testing  ACCURACY: 0.7762\n",
      "AUC Score        : 0.732\n"
     ]
    }
   ],
   "source": [
    "# Initiating a Pruned Tree Model\n",
    "pruned_tree = DecisionTreeClassifier(max_depth        = 3,\n",
    "                                     min_samples_leaf = 25,\n",
    "                                     random_state     = 219)\n",
    "\n",
    "# FITTING the training data\n",
    "pruned_tree_fit  = pruned_tree.fit(chef_data, chef_target)\n",
    "\n",
    "\n",
    "# PREDICTING on new data\n",
    "pruned_tree_pred = pruned_tree_fit.predict(x_test)\n",
    "\n",
    "\n",
    "# SCORING the model\n",
    "print('Training ACCURACY:', pruned_tree_fit.score(x_train, y_train).round(4))\n",
    "print('Testing  ACCURACY:', pruned_tree_fit.score(x_test, y_test).round(4))\n",
    "print('AUC Score        :', roc_auc_score(y_true  = y_test,\n",
    "                                          y_score = pruned_tree_pred).round(4))\n",
    "\n",
    "\n",
    "# saving scoring data for future use\n",
    "pruned_tree_train_score = pruned_tree_fit.score(x_train, y_train).round(4) # accuracy\n",
    "pruned_tree_test_score  = pruned_tree_fit.score(x_test, y_test).round(4)   # accuracy\n",
    "\n",
    "\n",
    "# saving auc score\n",
    "pruned_tree_auc_score   = roc_auc_score(y_true  = y_test,\n",
    "                                        y_score = pruned_tree_pred).round(4) # auc"
   ]
  },
  {
   "cell_type": "code",
   "execution_count": 42,
   "metadata": {
    "code_folding": [
     0
    ]
   },
   "outputs": [],
   "source": [
    "#creating variables from confusion matrix\n",
    "pruned_tree_tn, \\\n",
    "pruned_tree_fp, \\\n",
    "pruned_tree_fn, \\\n",
    "pruned_tree_tp = confusion_matrix(y_true = y_test, y_pred = pruned_tree_pred).ravel()"
   ]
  },
  {
   "cell_type": "markdown",
   "metadata": {},
   "source": [
    "## Tuned Tree "
   ]
  },
  {
   "cell_type": "code",
   "execution_count": 43,
   "metadata": {
    "code_folding": [
     0
    ]
   },
   "outputs": [],
   "source": [
    "#Initiating data in the tuned classification tree model\n",
    "chef_data   =  chef.loc[ : , variable_dict['logit_sig_2']]\n",
    "chef_target =  chef.loc[ : , 'CROSS_SELL_SUCCESS']\n",
    "\n",
    "# train/test split\n",
    "x_train, x_test, y_train, y_test = train_test_split(\n",
    "                                chef_data,\n",
    "                                chef_target,\n",
    "                                random_state = 219,\n",
    "                                test_size    = 0.25,\n",
    "                                stratify     = chef_target)"
   ]
  },
  {
   "cell_type": "code",
   "execution_count": 55,
   "metadata": {
    "code_folding": [
     0
    ],
    "deletable": false,
    "editable": false,
    "run_control": {
     "frozen": true
    }
   },
   "outputs": [
    {
     "name": "stderr",
     "output_type": "stream",
     "text": [
      "<ipython-input-55-4a735b0e6a36>:6: FutureWarning: The pandas.np module is deprecated and will be removed from pandas in a future version. Import numpy directly instead\n",
      "  depth_space     = pd.np.arange(1, 25, 1)\n",
      "<ipython-input-55-4a735b0e6a36>:7: FutureWarning: The pandas.np module is deprecated and will be removed from pandas in a future version. Import numpy directly instead\n",
      "  leaf_space      = pd.np.arange(1, 100, 1)\n"
     ]
    },
    {
     "name": "stdout",
     "output_type": "stream",
     "text": [
      "Tuned Parameters  : {'splitter': 'best', 'min_samples_leaf': 16, 'max_depth': 3, 'criterion': 'gini'}\n",
      "Tuned Training AUC: 0.7032\n"
     ]
    }
   ],
   "source": [
    "##        Tree Parameter Tuning      ##\n",
    "#######################################\n",
    "criterion_space = ['gini', 'entropy']\n",
    "splitter_space  = ['best', 'random']\n",
    "depth_space     = pd.np.arange(1, 25, 1)\n",
    "leaf_space      = pd.np.arange(1, 100, 1)\n",
    "\n",
    "\n",
    "# creating a hyperparameter grid\n",
    "param_grid = {'criterion'        : criterion_space,\n",
    "              'splitter'         : splitter_space,\n",
    "              'max_depth'        : depth_space,\n",
    "              'min_samples_leaf' : leaf_space}\n",
    "\n",
    "\n",
    "# INSTANTIATING the model object without hyperparameters\n",
    "tuned_tree = DecisionTreeClassifier(random_state = 219)\n",
    "# RandomizedSearchCV object\n",
    "tuned_tree_cv = RandomizedSearchCV(estimator             = tuned_tree,\n",
    "                                   param_distributions   = param_grid,\n",
    "                                   cv                    = 3,\n",
    "                                   n_iter                = 1000, # changed for the sake of time\n",
    "                                   random_state          = 219,\n",
    "                                   scoring = make_scorer(roc_auc_score,\n",
    "                                             needs_threshold = False))\n",
    "\n",
    "\n",
    "# FITTING to the FULL DATASET (due to cross-validation)\n",
    "tuned_tree_cv.fit(chef_data, chef_target)\n",
    "\n",
    "\n",
    "# PREDICT step is not needed\n",
    "\n",
    "\n",
    "# printing the optimal parameters and best score\n",
    "print(\"Tuned Parameters  :\", tuned_tree_cv.best_params_)\n",
    "print(\"Tuned Training AUC:\", tuned_tree_cv.best_score_.round(4))\n"
   ]
  },
  {
   "cell_type": "code",
   "execution_count": 44,
   "metadata": {
    "code_folding": [
     0
    ]
   },
   "outputs": [
    {
     "name": "stdout",
     "output_type": "stream",
     "text": [
      "Tuned Tree Training ACCURACY: 0.7402\n",
      "Tuned Tree Testing ACCURACY : 0.7762\n",
      "Tuned Tree AUC Score        : 0.732\n"
     ]
    }
   ],
   "source": [
    "# building classification model based on hyperparameter tuning results\n",
    "#tuning results came from above where the hyperparameter tuning code was used\n",
    "\n",
    "# classification tree model with tuned values from above\n",
    "tree_tuned = DecisionTreeClassifier(criterion        = 'gini',\n",
    "                                    max_depth        = 3,\n",
    "                                    max_features     = None,\n",
    "                                    min_samples_leaf = 16,\n",
    "                                    random_state     = 219,\n",
    "                                    splitter         = 'best')\n",
    "\n",
    "# Fitting training data\n",
    "tree_tuned_fit  = tree_tuned.fit(chef_data, chef_target)\n",
    "\n",
    "# PREDICTING based on the testing set\n",
    "tree_tuned_pred = tree_tuned.predict(x_test)\n",
    "\n",
    "# SCORING the results\n",
    "print('Tuned Tree Training ACCURACY:', tree_tuned.score(x_train, y_train).round(4))\n",
    "print('Tuned Tree Testing ACCURACY :', tree_tuned.score(x_test, y_test).round(4))\n",
    "print('Tuned Tree AUC Score        :', roc_auc_score(y_true  = y_test,\n",
    "                                                     y_score = tree_tuned_pred).round(4))\n",
    "\n",
    "\n",
    "# saving scoring data for future use\n",
    "tree_tuned_train_score = tree_tuned.score(x_train, y_train).round(4) # accuracy\n",
    "tree_tuned_test_score  = tree_tuned.score(x_test, y_test).round(4)   # accuracy\n",
    "\n",
    "\n",
    "# saving the AUC score\n",
    "tree_tuned_auc         = roc_auc_score(y_true  = y_test,\n",
    "                                     y_score = tree_tuned_pred).round(4) # auc\n"
   ]
  },
  {
   "cell_type": "code",
   "execution_count": 45,
   "metadata": {
    "code_folding": [
     0
    ]
   },
   "outputs": [],
   "source": [
    "# unpacking the confusion matrix\n",
    "tuned_tree_tn, \\\n",
    "tuned_tree_fp, \\\n",
    "tuned_tree_fn, \\\n",
    "tuned_tree_tp = confusion_matrix(y_true = y_test, y_pred = tree_tuned_pred).ravel()"
   ]
  },
  {
   "cell_type": "markdown",
   "metadata": {},
   "source": [
    "## Random Forest "
   ]
  },
  {
   "cell_type": "code",
   "execution_count": 46,
   "metadata": {
    "code_folding": [
     0
    ]
   },
   "outputs": [],
   "source": [
    "#declaring the correct variables to be used in random forest\n",
    "chef_data   =  chef.loc[ : , variable_dict['logit_sig_2']]\n",
    "chef_target =  chef.loc[ : , 'CROSS_SELL_SUCCESS']\n",
    "\n",
    "# train/test split\n",
    "x_train, x_test, y_train, y_test = train_test_split(\n",
    "                                chef_data,\n",
    "                                chef_target,\n",
    "                                random_state = 219,\n",
    "                                test_size    = 0.25,\n",
    "                                stratify     = chef_target)"
   ]
  },
  {
   "cell_type": "code",
   "execution_count": 37,
   "metadata": {
    "code_folding": [
     0
    ],
    "deletable": false,
    "editable": false,
    "run_control": {
     "frozen": true
    }
   },
   "outputs": [
    {
     "name": "stderr",
     "output_type": "stream",
     "text": [
      "<ipython-input-37-6d6f2cfa3e93>:18: FutureWarning: The pandas.np module is deprecated and will be removed from pandas in a future version. Import numpy directly instead\n",
      "  estimator_space  = pd.np.arange(100, 1100, 250)\n",
      "<ipython-input-37-6d6f2cfa3e93>:19: FutureWarning: The pandas.np module is deprecated and will be removed from pandas in a future version. Import numpy directly instead\n",
      "  leaf_space       = pd.np.arange(1, 31, 10)\n",
      "C:\\Users\\Nguye\\anaconda3\\lib\\site-packages\\sklearn\\model_selection\\_search.py:278: UserWarning: The total space of parameters 96 is smaller than n_iter=500. Running 96 iterations. For exhaustive searches, use GridSearchCV.\n",
      "  warnings.warn(\n"
     ]
    },
    {
     "name": "stdout",
     "output_type": "stream",
     "text": [
      "Tuned Parameters  : {'warm_start': True, 'n_estimators': 600, 'min_samples_leaf': 21, 'criterion': 'gini', 'bootstrap': False}\n",
      "Tuned Training AUC: 0.6815\n"
     ]
    }
   ],
   "source": [
    "# INSTANTIATING a random forest model with default values\n",
    "rf_default = RandomForestClassifier(n_estimators     = 100,\n",
    "                                    criterion        = 'gini',\n",
    "                                    max_depth        = None,\n",
    "                                    min_samples_leaf = 2,\n",
    "                                    bootstrap        = True,\n",
    "                                    warm_start       = False,\n",
    "                                    random_state     = 219)\n",
    "# Fit the training data\n",
    "rf_default_fit = rf_default.fit(x_train, y_train)\n",
    "\n",
    "\n",
    "# Predicting on testing set\n",
    "rf_default_fit_pred = rf_default_fit.predict(x_test)\n",
    "\n",
    "\n",
    "# declaring hyperparameter space\n",
    "estimator_space  = pd.np.arange(100, 1100, 250)\n",
    "leaf_space       = pd.np.arange(1, 31, 10)\n",
    "criterion_space  = ['gini', 'entropy']\n",
    "bootstrap_space  = [True, False]\n",
    "warm_start_space = [True, False]\n",
    "\n",
    "\n",
    "# create hyperparameter grid\n",
    "param_grid = {'n_estimators'     : estimator_space,\n",
    "              'min_samples_leaf' : leaf_space,\n",
    "              'criterion'        : criterion_space,\n",
    "              'bootstrap'        : bootstrap_space,\n",
    "              'warm_start'       : warm_start_space}\n",
    "\n",
    "\n",
    "# INSTANTIATING the model object without hyperparameters\n",
    "forest_grid = RandomForestClassifier(random_state = 219)\n",
    "\n",
    "\n",
    "# GridSearchCV object\n",
    "forest_cv = RandomizedSearchCV(estimator           = forest_grid,\n",
    "                               param_distributions = param_grid,\n",
    "                               cv                  = 3,\n",
    "                               n_iter              = 500,\n",
    "                               scoring             = make_scorer(roc_auc_score,\n",
    "                               needs_threshold     = False))\n",
    "\n",
    "\n",
    "# FITTING to the FULL DATASET (due to cross-validation)\n",
    "forest_cv.fit(chef_data, chef_target)\n",
    "\n",
    "# printing the optimal parameters and best score\n",
    "print(\"Tuned Parameters  :\", forest_cv.best_params_)\n",
    "print(\"Tuned Training AUC:\", forest_cv.best_score_.round(4))"
   ]
  },
  {
   "cell_type": "code",
   "execution_count": 47,
   "metadata": {
    "code_folding": [
     0
    ]
   },
   "outputs": [
    {
     "name": "stdout",
     "output_type": "stream",
     "text": [
      "Forest Tuned Training ACCURACY: 0.7656\n",
      "Forest Tuned Testing  ACCURACY: 0.7885\n",
      "Forest Tuned AUC Score        : 0.719\n"
     ]
    }
   ],
   "source": [
    "# building a model based on hyperparameter tuning results\n",
    "\n",
    "# copying over the tune parameters into the model \n",
    "# avoids running another RandomizedSearchCV\n",
    "forest_tuned = RandomForestClassifier(n_estimators     = 600,\n",
    "                                      criterion        = 'gini',\n",
    "                                      max_depth        = None,\n",
    "                                      min_samples_leaf = 21,\n",
    "                                      bootstrap        = False,\n",
    "                                      warm_start       = True,\n",
    "                                      random_state     = 219)\n",
    "\n",
    "# Fit model object\n",
    "forest_tuned_fit = forest_tuned.fit(chef_data, chef_target)\n",
    "\n",
    "# Predicting based on the testing set\n",
    "forest_tuned_pred = forest_tuned_fit.predict(x_test)\n",
    "\n",
    "# Score the results\n",
    "print('Forest Tuned Training ACCURACY:', forest_tuned.score(x_train, y_train).round(4))\n",
    "print('Forest Tuned Testing  ACCURACY:', forest_tuned.score(x_test, y_test).round(4))\n",
    "print('Forest Tuned AUC Score        :', roc_auc_score(y_true  = y_test,\n",
    "                                                       y_score = forest_tuned_pred).round(4))\n",
    "\n",
    "# saving score data for future use\n",
    "forest_tuned_train_score = forest_tuned.score(x_train, y_train).round(4) # accuracy\n",
    "forest_tuned_test_score  = forest_tuned.score(x_test, y_test).round(4)   # accuracy\n",
    "\n",
    "# saving the AUC score\n",
    "forest_tuned_auc = roc_auc_score(y_true  = y_test,\n",
    "                                 y_score = forest_tuned_pred).round(4) # auc"
   ]
  },
  {
   "cell_type": "code",
   "execution_count": 48,
   "metadata": {
    "code_folding": [
     0
    ]
   },
   "outputs": [],
   "source": [
    "#Initiating confusing matrix values\n",
    "tuned_rf_tn, \\\n",
    "tuned_rf_fp, \\\n",
    "tuned_rf_fn, \\\n",
    "tuned_rf_tp = confusion_matrix(y_true = y_test, y_pred = forest_tuned_pred).ravel()"
   ]
  },
  {
   "cell_type": "markdown",
   "metadata": {},
   "source": [
    "# KNN Classification"
   ]
  },
  {
   "cell_type": "code",
   "execution_count": 49,
   "metadata": {
    "code_folding": [
     0
    ]
   },
   "outputs": [],
   "source": [
    "#initiating dataset to use in classification\n",
    "chef_data   =  chef.loc[ : , variable_dict['logit_sig_2']]\n",
    "chef_target =  chef.loc[ : , 'CROSS_SELL_SUCCESS']\n",
    "\n",
    "# train/test split\n",
    "x_train, x_test, y_train, y_test = train_test_split(\n",
    "                                chef_data,\n",
    "                                chef_target,\n",
    "                                random_state = 219,\n",
    "                                test_size    = 0.25,\n",
    "                                stratify     = chef_target)"
   ]
  },
  {
   "cell_type": "code",
   "execution_count": 50,
   "metadata": {
    "code_folding": [
     0
    ]
   },
   "outputs": [
    {
     "data": {
      "image/png": "[encoded data removed]",
      "text/plain": [
       "<Figure size 864x576 with 1 Axes>"
      ]
     },
     "metadata": {
      "needs_background": "light"
     },
     "output_type": "display_data"
    },
    {
     "name": "stdout",
     "output_type": "stream",
     "text": [
      "The optimal number of neighbors is: 17\n"
     ]
    }
   ],
   "source": [
    "# determining the optimal number of neighbors\n",
    "opt_neighbors = optimal_neighbors(x_data        = chef_data,\n",
    "                                  y_data        = chef_target,\n",
    "                                  response_type = 'class')"
   ]
  },
  {
   "cell_type": "code",
   "execution_count": 51,
   "metadata": {
    "code_folding": [
     0
    ]
   },
   "outputs": [
    {
     "name": "stdout",
     "output_type": "stream",
     "text": [
      "KNN Training ACCURACY: 0.7546\n",
      "KNN Testing  ACCURACY: 0.7392\n",
      "KNN AUC Score        : 0.6455\n"
     ]
    }
   ],
   "source": [
    "#Scaling the data through the code below\n",
    "scaler = StandardScaler()\n",
    "\n",
    "scaler.fit(chef_data)\n",
    "\n",
    "x_scaled     = scaler.transform(chef_data)\n",
    "\n",
    "# converting scaled data to a DF\n",
    "x_scaled_df  = pd.DataFrame(x_scaled) \n",
    "\n",
    "\n",
    "# train-test split with newly scaled data\n",
    "x_train_scaled, x_test_scaled, y_train_scaled, y_test_scaled = train_test_split(\n",
    "            x_scaled_df,\n",
    "            chef_target,\n",
    "            random_state = 219,\n",
    "            test_size = 0.25,\n",
    "            stratify = chef_target)\n",
    "\n",
    "# KNN classification model with optimal neighbors\n",
    "knn_opt = KNeighborsClassifier(n_neighbors = opt_neighbors)\n",
    "\n",
    "knn_fit = knn_opt.fit(x_train_scaled, y_train_scaled)\n",
    "\n",
    "knn_pred = knn_fit.predict(x_test_scaled)\n",
    "\n",
    "# Print Scores\n",
    "print('KNN Training ACCURACY:', knn_fit.score(x_train_scaled, y_train_scaled).round(4))\n",
    "print('KNN Testing  ACCURACY:', knn_fit.score(x_test_scaled, y_test_scaled).round(4))\n",
    "print('KNN AUC Score        :', roc_auc_score(y_true  = y_test,\n",
    "                                              y_score = knn_pred).round(4))\n",
    "\n",
    "# saving scores\n",
    "knn_train_score = knn_fit.score(x_train_scaled, y_train_scaled).round(4)\n",
    "knn_test_score  = knn_fit.score(x_test_scaled, y_test_scaled).round(4)\n",
    "\n",
    "# saving AUC score\n",
    "knn_auc_score   = roc_auc_score(y_true  = y_test,\n",
    "                                          y_score = knn_pred).round(4)"
   ]
  },
  {
   "cell_type": "code",
   "execution_count": 52,
   "metadata": {
    "code_folding": [
     0
    ]
   },
   "outputs": [],
   "source": [
    "# unpacking the confusion matrix\n",
    "knn_tree_tn, \\\n",
    "knn_tree_fp, \\\n",
    "knn_tree_fn, \\\n",
    "knn_tree_tp = confusion_matrix(y_true = y_test, y_pred = knn_pred).ravel()"
   ]
  },
  {
   "cell_type": "code",
   "execution_count": 53,
   "metadata": {
    "code_folding": [
     0
    ]
   },
   "outputs": [],
   "source": [
    "# creating a dictionary for model results\n",
    "model_performance = {\n",
    "\n",
    "#Model Names \n",
    "    'Model Name'    : ['Logistic Tuned', 'Full Tree', 'Pruned Tree', 'Scaled KNN',\n",
    "                      'Tuned Tree', 'Tuned Forest'],\n",
    "#AUC Score values           \n",
    "    'AUC Score' : [lr_tuned_auc , full_tree_auc_score, pruned_tree_auc_score, \n",
    "                   knn_auc_score, tree_tuned_auc, forest_tuned_auc],\n",
    "    \n",
    "#training accuracy values   \n",
    "    'Training Accuracy' : [lr_tuned_train_score, full_tree_train_score,\n",
    "                           pruned_tree_train_score, knn_train_score,\n",
    "                          tree_tuned_train_score, forest_tuned_train_score],\n",
    "#testing accuracy values \n",
    "    'Testing Accuracy'  : [lr_tuned_test_score, full_tree_test_score,\n",
    "                           pruned_tree_test_score, knn_test_score,\n",
    "                          tree_tuned_test_score, forest_tuned_test_score],\n",
    "#confusion matrix values\n",
    "    'Confusion Matrix'  : [(lrtuned_tn, lrtuned_fp, lrtuned_fn, lrtuned_tp),\n",
    "                           (full_tree_tn, full_tree_fp, full_tree_fn, full_tree_tp),\n",
    "                           (pruned_tree_tn, pruned_tree_fp, pruned_tree_fn, pruned_tree_tp),\n",
    "                           (knn_tree_tn, knn_tree_fp, knn_tree_fn, knn_tree_tp),\n",
    "                           (tuned_tree_tn, tuned_tree_fp, tuned_tree_fn, tuned_tree_tp),\n",
    "                           (tuned_rf_tn,tuned_rf_fp,tuned_rf_fn,tuned_rf_tp)]}\n",
    "\n",
    "\n",
    "# converting model_performance into a DataFrame\n",
    "model_performance = pd.DataFrame(model_performance)\n",
    "\n",
    "\n",
    "# sending model results to Excel\n",
    "model_performance.to_excel('./chef_modelperformance_Vi.xlsx',\n",
    "                           index = False)"
   ]
  },
  {
   "cell_type": "code",
   "execution_count": 55,
   "metadata": {
    "code_folding": [
     0
    ]
   },
   "outputs": [
    {
     "name": "stdout",
     "output_type": "stream",
     "text": [
      "Therefore, my best model based on the AUC score is the Pruned Tree Model.\t\n",
      "Seen from the values below.\n"
     ]
    },
    {
     "data": {
      "text/html": [
       "<div>\n",
       "<style scoped>\n",
       "    .dataframe tbody tr th:only-of-type {\n",
       "        vertical-align: middle;\n",
       "    }\n",
       "\n",
       "    .dataframe tbody tr th {\n",
       "        vertical-align: top;\n",
       "    }\n",
       "\n",
       "    .dataframe thead th {\n",
       "        text-align: right;\n",
       "    }\n",
       "</style>\n",
       "<table border=\"1\" class=\"dataframe\">\n",
       "  <thead>\n",
       "    <tr style=\"text-align: right;\">\n",
       "      <th></th>\n",
       "      <th>Model Name</th>\n",
       "      <th>AUC Score</th>\n",
       "      <th>Training Accuracy</th>\n",
       "      <th>Testing Accuracy</th>\n",
       "      <th>Confusion Matrix</th>\n",
       "    </tr>\n",
       "  </thead>\n",
       "  <tbody>\n",
       "    <tr>\n",
       "      <th>2</th>\n",
       "      <td>Pruned Tree</td>\n",
       "      <td>0.7320</td>\n",
       "      <td>0.7402</td>\n",
       "      <td>0.7762</td>\n",
       "      <td>(95, 61, 48, 283)</td>\n",
       "    </tr>\n",
       "    <tr>\n",
       "      <th>4</th>\n",
       "      <td>Tuned Tree</td>\n",
       "      <td>0.7320</td>\n",
       "      <td>0.7402</td>\n",
       "      <td>0.7762</td>\n",
       "      <td>(95, 61, 48, 283)</td>\n",
       "    </tr>\n",
       "    <tr>\n",
       "      <th>5</th>\n",
       "      <td>Tuned Forest</td>\n",
       "      <td>0.7190</td>\n",
       "      <td>0.7656</td>\n",
       "      <td>0.7885</td>\n",
       "      <td>(82, 74, 29, 302)</td>\n",
       "    </tr>\n",
       "    <tr>\n",
       "      <th>0</th>\n",
       "      <td>Logistic Tuned</td>\n",
       "      <td>0.6596</td>\n",
       "      <td>0.7464</td>\n",
       "      <td>0.7515</td>\n",
       "      <td>(63, 93, 28, 303)</td>\n",
       "    </tr>\n",
       "    <tr>\n",
       "      <th>3</th>\n",
       "      <td>Scaled KNN</td>\n",
       "      <td>0.6455</td>\n",
       "      <td>0.7546</td>\n",
       "      <td>0.7392</td>\n",
       "      <td>(60, 96, 31, 300)</td>\n",
       "    </tr>\n",
       "    <tr>\n",
       "      <th>1</th>\n",
       "      <td>Full Tree</td>\n",
       "      <td>0.6127</td>\n",
       "      <td>1.0000</td>\n",
       "      <td>0.6509</td>\n",
       "      <td>(79, 77, 93, 238)</td>\n",
       "    </tr>\n",
       "  </tbody>\n",
       "</table>\n",
       "</div>"
      ],
      "text/plain": [
       "       Model Name  AUC Score  Training Accuracy  Testing Accuracy   Confusion Matrix\n",
       "2     Pruned Tree     0.7320             0.7402            0.7762  (95, 61, 48, 283)\n",
       "4      Tuned Tree     0.7320             0.7402            0.7762  (95, 61, 48, 283)\n",
       "5    Tuned Forest     0.7190             0.7656            0.7885  (82, 74, 29, 302)\n",
       "0  Logistic Tuned     0.6596             0.7464            0.7515  (63, 93, 28, 303)\n",
       "3      Scaled KNN     0.6455             0.7546            0.7392  (60, 96, 31, 300)\n",
       "1       Full Tree     0.6127             1.0000            0.6509  (79, 77, 93, 238)"
      ]
     },
     "execution_count": 55,
     "metadata": {},
     "output_type": "execute_result"
    }
   ],
   "source": [
    "#printout for the model chosen\n",
    "\n",
    "print(\"\"\"Therefore, my best model based on the AUC score is the Pruned Tree Model.\\t\n",
    "Seen from the values below.\"\"\")\n",
    "\n",
    "\n",
    "model_performance.sort_values(by = 'AUC Score', ascending = False)\n",
    "\n"
   ]
  }
 ],
 "metadata": {
  "kernelspec": {
   "display_name": "Python 3",
   "language": "python",
   "name": "python3"
  },
  "language_info": {
   "codemirror_mode": {
    "name": "ipython",
    "version": 3
   },
   "file_extension": ".py",
   "mimetype": "text/x-python",
   "name": "python",
   "nbconvert_exporter": "python",
   "pygments_lexer": "ipython3",
   "version": "3.8.5"
  },
  "toc": {
   "base_numbering": 1,
   "nav_menu": {},
   "number_sections": true,
   "sideBar": true,
   "skip_h1_title": false,
   "title_cell": "Table of Contents",
   "title_sidebar": "Contents",
   "toc_cell": false,
   "toc_position": {},
   "toc_section_display": true,
   "toc_window_display": false
  },
  "varInspector": {
   "cols": {
    "lenName": 16,
    "lenType": 16,
    "lenVar": 40
   },
   "kernels_config": {
    "python": {
     "delete_cmd_postfix": "",
     "delete_cmd_prefix": "del ",
     "library": "var_list.py",
     "varRefreshCmd": "print(var_dic_list())"
    },
    "r": {
     "delete_cmd_postfix": ") ",
     "delete_cmd_prefix": "rm(",
     "library": "var_list.r",
     "varRefreshCmd": "cat(var_dic_list()) "
    }
   },
   "types_to_exclude": [
    "module",
    "function",
    "builtin_function_or_method",
    "instance",
    "_Feature"
   ],
   "window_display": false
  }
 },
 "nbformat": 4,
 "nbformat_minor": 4
}
